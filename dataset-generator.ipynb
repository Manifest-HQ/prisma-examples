{
 "cells": [
  {
   "cell_type": "markdown",
   "metadata": {},
   "source": [
    "## This functions create the dataset in base to de files"
   ]
  },
  {
   "cell_type": "code",
   "execution_count": 7,
   "metadata": {},
   "outputs": [
    {
     "name": "stdout",
     "output_type": "stream",
     "text": [
      "Warning: eventos.prisma is empty and will be skipped.\n",
      "Warning: gimnasio.prisma is empty and will be skipped.\n",
      "Warning: gobierno.prisma is empty and will be skipped.\n",
      "Warning: hospital.prisma is empty and will be skipped.\n",
      "Warning: hotel.prisma is empty and will be skipped.\n",
      "Warning: inmobiliaria.prisma is empty and will be skipped.\n",
      "Warning: investigaciones.prisma is empty and will be skipped.\n",
      "Warning: mascotas.prisma is empty and will be skipped.\n",
      "Warning: parqueDiversiones.prisma is empty and will be skipped.\n",
      "Warning: redsocial.prisma is empty and will be skipped.\n",
      "Warning: resturante.prisma is empty and will be skipped.\n",
      "Warning: seguro.prisma is empty and will be skipped.\n",
      "Warning: software.prisma is empty and will be skipped.\n",
      "Warning: startup.prisma is empty and will be skipped.\n",
      "Warning: streaming.prisma is empty and will be skipped.\n",
      "Warning: telecomunicaciones.prisma is empty and will be skipped.\n",
      "Warning: transporte.prisma is empty and will be skipped.\n",
      "Warning: veterinaria.prisma is empty and will be skipped.\n",
      "Warning: viajes.prisma is empty and will be skipped.\n"
     ]
    }
   ],
   "source": [
    "import os\n",
    "import json\n",
    "\n",
    "def read_files_and_write_to_jsonl(directory_path, output_file_name):\n",
    "    \"\"\"Reads all files in the specified directory and writes their contents to a JSONL file.\"\"\"\n",
    "    data = []\n",
    "    for filename in os.listdir(directory_path):\n",
    "        file_path = os.path.join(directory_path, filename)\n",
    "        if os.path.isfile(file_path):\n",
    "            with open(file_path, 'r') as file:\n",
    "                lines = file.readlines()\n",
    "                if lines: \n",
    "                    first_line = lines[0].strip().lstrip('//').strip()\n",
    "                    remaining_content = ''.join(lines[1:])\n",
    "                    data.append({\n",
    "                        \"messages\": [\n",
    "                            {\"role\": \"user\", \"content\": first_line },\n",
    "                            {\"role\": \"assistant\", \"content\": json.dumps(remaining_content)}\n",
    "                        ]\n",
    "                    })\n",
    "                else:\n",
    "                    print(f\"Warning: {filename} is empty and will be skipped.\")\n",
    "\n",
    "    with open(output_file_name, 'w') as jsonl_file:\n",
    "        for entry in data:\n",
    "            jsonl_file.write(json.dumps(entry) + '\\n')\n",
    "\n",
    "# Example usage:\n",
    "read_files_and_write_to_jsonl('./prisma/dataset', 'prisma-dataset.jsonl')\n"
   ]
  },
  {
   "cell_type": "markdown",
   "metadata": {},
   "source": [
    "### Test code"
   ]
  },
  {
   "cell_type": "code",
   "execution_count": null,
   "metadata": {},
   "outputs": [],
   "source": [
    "import os\n",
    "\n",
    "def read_files_in_directory(directory_path):\n",
    "    \"\"\"Reads all files in the specified directory and prints their contents.\"\"\"\n",
    "    for filename in os.listdir(directory_path):\n",
    "        file_path = os.path.join(directory_path, filename)\n",
    "        if os.path.isfile(file_path):\n",
    "            with open(file_path, 'r') as file:\n",
    "                print(f\"{filename.split('.')[0]}\")\n",
    "                #print(file.read())\n",
    "                #print(\"\\n---\\n\")\n",
    "\n",
    "read_files_in_directory('./prisma/dataset')"
   ]
  }
 ],
 "metadata": {
  "kernelspec": {
   "display_name": "manifest",
   "language": "python",
   "name": "python3"
  },
  "language_info": {
   "codemirror_mode": {
    "name": "ipython",
    "version": 3
   },
   "file_extension": ".py",
   "mimetype": "text/x-python",
   "name": "python",
   "nbconvert_exporter": "python",
   "pygments_lexer": "ipython3",
   "version": "3.10.14"
  }
 },
 "nbformat": 4,
 "nbformat_minor": 2
}
