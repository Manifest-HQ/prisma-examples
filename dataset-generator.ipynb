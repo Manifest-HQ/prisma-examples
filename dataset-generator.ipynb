{
 "cells": [
  {
   "cell_type": "markdown",
   "metadata": {},
   "source": [
    "## This functions create the dataset in base to de files"
   ]
  },
  {
   "cell_type": "code",
   "execution_count": 10,
   "metadata": {},
   "outputs": [],
   "source": [
    "import os\n",
    "import json\n",
    "\n",
    "\n",
    "def read_files_and_write_to_jsonl(directory_path, output_file_name):\n",
    "    \"\"\"Reads all files in the specified directory and writes their contents to a JSONL file.\"\"\"\n",
    "    data = []\n",
    "    to_stop = False\n",
    "    for filename in os.listdir(directory_path):\n",
    "        file_path = os.path.join(directory_path, filename)\n",
    "        if os.path.isfile(file_path):\n",
    "            with open(file_path, 'r') as file:\n",
    "                lines = file.readlines()\n",
    "                if lines: \n",
    "                    first_line = lines[0].strip().lstrip('//').strip()\n",
    "                    remaining_content = ''.join(lines[1:])\n",
    "                    data.append({\n",
    "                        \"messages\": [\n",
    "                            {\"role\": \"user\", \"content\": first_line },\n",
    "                            {\"role\": \"assistant\", \"content\": json.dumps(remaining_content)}\n",
    "                        ]\n",
    "                    })\n",
    "                    \n",
    "                    # Check for a directory with the same name as the file (without extension)\n",
    "                    directory_name = os.path.splitext(filename)[0]\n",
    "                    directory_check_path = os.path.join(directory_path, directory_name)\n",
    "                    if os.path.isdir(directory_check_path):\n",
    "                        \n",
    "                        # Read each file in the directory\n",
    "                        for sub_filename in os.listdir(directory_check_path):\n",
    "                            if directory_name == \"gym\" or to_stop:\n",
    "                                to_stop = True\n",
    "                                break\n",
    "                            sub_file_path = os.path.join(directory_check_path, sub_filename)\n",
    "                            if os.path.isfile(sub_file_path):\n",
    "                                with open(sub_file_path, 'r') as sub_file:\n",
    "                                    sub_lines = sub_file.readlines()\n",
    "                                    if sub_lines:\n",
    "                                        sub_first_line = sub_lines[0].strip().lstrip('//').strip()\n",
    "                                        sub_remaining_content = ''.join(sub_lines[1:])\n",
    "                                        data.append({\n",
    "                                            \"messages\": [\n",
    "                                                {\"role\": \"user\", \"content\": first_line },\n",
    "                                                {\"role\": \"assistant\", \"content\": json.dumps(remaining_content)},\n",
    "                                                {\"role\": \"user\", \"content\": sub_first_line},\n",
    "                                                {\"role\": \"assistant\", \"content\": json.dumps(sub_remaining_content)}\n",
    "                                            ]\n",
    "                                        })\n",
    "                else:\n",
    "                    print(f\"Warning: {filename} is empty and will be skipped.\")\n",
    "\n",
    "    with open(output_file_name, 'w') as jsonl_file:\n",
    "        for entry in data:\n",
    "            jsonl_file.write(json.dumps(entry) + '\\n')\n",
    "\n",
    "# Example usage:\n",
    "read_files_and_write_to_jsonl('./prisma/dataset', 'prisma-dataset.jsonl')\n"
   ]
  },
  {
   "cell_type": "markdown",
   "metadata": {},
   "source": [
    "### Test code"
   ]
  },
  {
   "cell_type": "code",
   "execution_count": null,
   "metadata": {},
   "outputs": [],
   "source": [
    "import os\n",
    "\n",
    "def read_files_in_directory(directory_path):\n",
    "    \"\"\"Reads all files in the specified directory and prints their contents.\"\"\"\n",
    "    for filename in os.listdir(directory_path):\n",
    "        file_path = os.path.join(directory_path, filename)\n",
    "        if os.path.isfile(file_path):\n",
    "            with open(file_path, 'r') as file:\n",
    "                print(f\"{filename.split('.')[0]}\")\n",
    "                #print(file.read())\n",
    "                #print(\"\\n---\\n\")\n",
    "\n",
    "read_files_in_directory('./prisma/dataset')"
   ]
  }
 ],
 "metadata": {
  "kernelspec": {
   "display_name": "manifest",
   "language": "python",
   "name": "python3"
  },
  "language_info": {
   "codemirror_mode": {
    "name": "ipython",
    "version": 3
   },
   "file_extension": ".py",
   "mimetype": "text/x-python",
   "name": "python",
   "nbconvert_exporter": "python",
   "pygments_lexer": "ipython3",
   "version": "3.10.14"
  }
 },
 "nbformat": 4,
 "nbformat_minor": 2
}
